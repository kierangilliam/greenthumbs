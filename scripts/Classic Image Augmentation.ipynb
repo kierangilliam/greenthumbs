{
 "cells": [
  {
   "cell_type": "code",
   "execution_count": 3,
   "metadata": {},
   "outputs": [],
   "source": [
    "import numpy as np\n",
    "import imgaug as ia\n",
    "import imgaug.augmenters as iaa\n",
    "\n",
    "from shutil import copyfile\n",
    "\n",
    "# from matplotlib import pyplot as plt\n",
    "from matplotlib.image import imread, imsave\n",
    "# %matplotlib inline \n",
    "\n",
    "import os\n",
    "\n",
    "dir_ = '../data/v01/ds'\n",
    "output_dir = '../data/v02/ds'\n",
    "\n",
    "filters = [\n",
    "#     iaa.MotionBlur(k=11, angle=180, name='mba180k11'),\n",
    "#     iaa.MotionBlur(k=11, angle=90, name='mba90k11'),\n",
    "#     iaa.GaussianBlur(sigma=(0.0, 4.0), name='gbs1'),\n",
    "#     iaa.GammaContrast((0.5, 0.5), name='gc0.5'),\n",
    "    iaa.GammaContrast((2.0, 2.0), name='gc2.0')\n",
    "]\n",
    "\n",
    "def load_image(infilename) :\n",
    "    try:\n",
    "        return imread(infilename)\n",
    "    except IOError:\n",
    "        print(f'Could not read {infilename}')\n",
    "        return None\n",
    "\n",
    "def save_image(npdata, outfilename):\n",
    "    imsave(outfilename, npdata)\n",
    "\n",
    "    \n",
    "images = dict()\n",
    "\n",
    "for root, dirs, files in os.walk(dir_):\n",
    "    for file in files:\n",
    "        if not file.endswith(\".json\"):\n",
    "            images[file] = load_image(os.path.join(root, file))\n",
    "\n",
    "augmented = [filter_(images=images.values()) for filter_ in filters]\n",
    "\n",
    "for idx, file in enumerate(images.keys()):\n",
    "    copyfile(os.path.join(dir_, file), os.path.join(output_dir, file))\n",
    "    copyfile(os.path.join(dir_, file + '.json'), os.path.join(output_dir, file + '.json'))\n",
    "    for filter_idx in range(len(filters)):\n",
    "        aug_file = f'{filters[filter_idx].name}-{file}'\n",
    "        try:\n",
    "            save_image(augmented[filter_idx][idx], os.path.join(output_dir, aug_file))\n",
    "            copyfile(os.path.join(dir_, file + '.json'), os.path.join(output_dir, aug_file + '.json'))\n",
    "        except ValueError:\n",
    "            print(f'Could not save {aug_file}')\n",
    "\n",
    "# plt.imshow(list(images.values())[0])\n",
    "# plt.imshow(augmented[4][0])\n",
    "# plt.imshow(augmented[1][0])\n",
    "# plt.show()"
   ]
  },
  {
   "cell_type": "code",
   "execution_count": null,
   "metadata": {},
   "outputs": [],
   "source": []
  },
  {
   "cell_type": "code",
   "execution_count": null,
   "metadata": {},
   "outputs": [],
   "source": []
  }
 ],
 "metadata": {
  "kernelspec": {
   "display_name": "Python 3",
   "language": "python",
   "name": "python3"
  },
  "language_info": {
   "codemirror_mode": {
    "name": "ipython",
    "version": 3
   },
   "file_extension": ".py",
   "mimetype": "text/x-python",
   "name": "python",
   "nbconvert_exporter": "python",
   "pygments_lexer": "ipython3",
   "version": "3.7.3"
  }
 },
 "nbformat": 4,
 "nbformat_minor": 2
}
